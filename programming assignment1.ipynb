{
 "cells": [
  {
   "cell_type": "code",
   "execution_count": 1,
   "metadata": {},
   "outputs": [
    {
     "name": "stdout",
     "output_type": "stream",
     "text": [
      "Hello Python\n"
     ]
    }
   ],
   "source": [
    "#1Write a Python program to print &quot;Hello Python&quot;?\n",
    "print(\"Hello Python\")"
   ]
  },
  {
   "cell_type": "code",
   "execution_count": 3,
   "metadata": {
    "scrolled": true
   },
   "outputs": [
    {
     "name": "stdout",
     "output_type": "stream",
     "text": [
      "Provide 1st number30\n",
      "Provide 2nd numner10\n",
      "Addition of 30 and 10 is 40\n",
      "divison of 30 and 10 is 3\n"
     ]
    }
   ],
   "source": [
    "#2.\n",
    "a=int(input(\"Provide 1st number\"))\n",
    "b=int(input(\"Provide 2nd numner\"))\n",
    "c=a+b\n",
    "d=int(a/b)\n",
    "print(\"Addition of {} and {} is {}\".format(a,b,c))\n",
    "print(\"divison of {} and {} is {}\".format(a,b,d))"
   ]
  },
  {
   "cell_type": "code",
   "execution_count": 6,
   "metadata": {},
   "outputs": [
    {
     "name": "stdout",
     "output_type": "stream",
     "text": [
      "Enter the height of the triangle10\n",
      "Enter the base of the triangle20\n",
      "Area of the triangle is 100.0\n"
     ]
    }
   ],
   "source": [
    "#3 assignment\n",
    "base=int(input(\"Enter the height of the triangle\"))\n",
    "height=int(input(\"Enter the base of the triangle\")) \n",
    "area=1/2*base*height \n",
    "print(\"Area of the triangle is {}\".format(area))"
   ]
  },
  {
   "cell_type": "code",
   "execution_count": 8,
   "metadata": {},
   "outputs": [
    {
     "name": "stdout",
     "output_type": "stream",
     "text": [
      "Provide the variable1 value100\n",
      "Provide the variable2 value200\n",
      "Values of variable1 and variable2 after swap are 200 and 100 respectively\n",
      "Provide the variable1 value100\n",
      "Provide the variable2 value200\n",
      "Values of variable1 and variable2 after swap are 200 and 100 respectively\n"
     ]
    }
   ],
   "source": [
    "#4. 4.\tWrite a Python program to swap two variables?\n",
    "var1=int(input(\"Provide the variable1 value\"))\n",
    "var2=int(input(\"Provide the variable2 value\"))\n",
    "temp= var2\n",
    "var2=var1\n",
    "var1=temp\n",
    "print(\"Values of variable1 and variable2 after swap are {} and {} respectively\".format(var1,var2))\n",
    "#Another way of swap is straightforward one\n",
    "var1=int(input(\"Provide the variable1 value\"))\n",
    "var2=int(input(\"Provide the variable2 value\"))\n",
    "var1,var2=var2,var1\n",
    "print(\"Values of variable1 and variable2 after swap are {} and {} respectively\".format(var1,var2))\n"
   ]
  },
  {
   "cell_type": "code",
   "execution_count": 14,
   "metadata": {},
   "outputs": [
    {
     "name": "stdout",
     "output_type": "stream",
     "text": [
      "84\n",
      "77\n",
      "37\n",
      "76\n",
      "8\n"
     ]
    }
   ],
   "source": [
    "#5.\tWrite a Python program to generate a random number?\n",
    "#this generates 5 random numbers within 0 to 100\n",
    "import random as rd\n",
    "for i in range(5):\n",
    "    print(rd.randint(0,100))"
   ]
  },
  {
   "cell_type": "code",
   "execution_count": null,
   "metadata": {},
   "outputs": [],
   "source": []
  },
  {
   "cell_type": "code",
   "execution_count": null,
   "metadata": {},
   "outputs": [],
   "source": []
  }
 ],
 "metadata": {
  "kernelspec": {
   "display_name": "Python 3",
   "language": "python",
   "name": "python3"
  },
  "language_info": {
   "codemirror_mode": {
    "name": "ipython",
    "version": 3
   },
   "file_extension": ".py",
   "mimetype": "text/x-python",
   "name": "python",
   "nbconvert_exporter": "python",
   "pygments_lexer": "ipython3",
   "version": "3.8.2"
  }
 },
 "nbformat": 4,
 "nbformat_minor": 4
}
